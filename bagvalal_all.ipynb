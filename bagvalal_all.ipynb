{
 "cells": [
  {
   "cell_type": "code",
   "execution_count": 6,
   "metadata": {},
   "outputs": [],
   "source": [
    "import pandas as pd"
   ]
  },
  {
   "cell_type": "code",
   "execution_count": 7,
   "metadata": {},
   "outputs": [],
   "source": [
    "df_dict  = pd.read_csv('bagv_dict_res.csv')\n",
    "df_dict  = df_dict.drop(df_dict.columns[[0]], axis=1)\n",
    "df_text = pd.read_csv('bagv_text_res.csv')\n",
    "df_text = df_text.drop(df_text.columns[[0]], axis=1)"
   ]
  },
  {
   "cell_type": "code",
   "execution_count": 8,
   "metadata": {},
   "outputs": [],
   "source": [
    "res = df_dict.merge(df_text, on=[\"segment\"])"
   ]
  },
  {
   "cell_type": "code",
   "execution_count": 9,
   "metadata": {},
   "outputs": [
    {
     "data": {
      "text/plain": [
       "['a',\n",
       " 'b',\n",
       " 'n',\n",
       " 'h',\n",
       " 'r',\n",
       " 'i',\n",
       " 'l',\n",
       " 'd',\n",
       " 'j',\n",
       " 'ɬː',\n",
       " 't',\n",
       " 'aː',\n",
       " 'o',\n",
       " 'u',\n",
       " 'e',\n",
       " 'w',\n",
       " 'eː',\n",
       " 'ʃː',\n",
       " 'ʁ',\n",
       " 'z',\n",
       " \"tʃ'\",\n",
       " 'χ',\n",
       " 'sː',\n",
       " \"tɬ'\",\n",
       " 'm',\n",
       " \"k'ʷ\",\n",
       " 'χː',\n",
       " 'ɬ',\n",
       " 'dʒ',\n",
       " 'iː',\n",
       " 'oː',\n",
       " 'kʷ',\n",
       " 'tʃ',\n",
       " 'hʷ',\n",
       " 's',\n",
       " 'ã',\n",
       " 'p',\n",
       " 'ʕ',\n",
       " 'ʁʷ',\n",
       " 'k',\n",
       " 'tʷ',\n",
       " \"t'\",\n",
       " \"k'\",\n",
       " 'ħ',\n",
       " 'ʃ',\n",
       " 'ʒ',\n",
       " 'χʷ',\n",
       " 'ʃːʷ',\n",
       " 'ãː',\n",
       " 'x',\n",
       " 'uː',\n",
       " 'ĩ',\n",
       " 'ũ',\n",
       " 'sːʷ',\n",
       " \"s'\",\n",
       " 'χːʷ',\n",
       " 'tʃʷ',\n",
       " 'dʷ',\n",
       " \"tʃ'ʷ\",\n",
       " 'ʔ',\n",
       " 'rʷ',\n",
       " 'õː',\n",
       " 'sʷ',\n",
       " 'nʷ',\n",
       " 'ʒʷ',\n",
       " 'ẽː']"
      ]
     },
     "execution_count": 9,
     "metadata": {},
     "output_type": "execute_result"
    }
   ],
   "source": [
    "list(res['segment'])"
   ]
  },
  {
   "cell_type": "code",
   "execution_count": 10,
   "metadata": {},
   "outputs": [],
   "source": [
    "res.to_csv('bagv_freq.csv')"
   ]
  }
 ],
 "metadata": {
  "kernelspec": {
   "display_name": "Python 3",
   "language": "python",
   "name": "python3"
  },
  "language_info": {
   "codemirror_mode": {
    "name": "ipython",
    "version": 3
   },
   "file_extension": ".py",
   "mimetype": "text/x-python",
   "name": "python",
   "nbconvert_exporter": "python",
   "pygments_lexer": "ipython3",
   "version": "3.8.6"
  }
 },
 "nbformat": 4,
 "nbformat_minor": 4
}
