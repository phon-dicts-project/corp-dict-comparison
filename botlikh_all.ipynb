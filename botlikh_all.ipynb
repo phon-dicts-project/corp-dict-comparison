{
 "cells": [
  {
   "cell_type": "code",
   "execution_count": 6,
   "metadata": {},
   "outputs": [],
   "source": [
    "import pandas as pd"
   ]
  },
  {
   "cell_type": "code",
   "execution_count": 7,
   "metadata": {},
   "outputs": [],
   "source": [
    "df_dict  = pd.read_csv('botl_dict_res.csv')\n",
    "df_dict  = df_dict.drop(df_dict.columns[[0]], axis=1)\n",
    "df_text = pd.read_csv('botl_text_res.csv')\n",
    "df_text = df_text.drop(df_text.columns[[0]], axis=1)"
   ]
  },
  {
   "cell_type": "code",
   "execution_count": 8,
   "metadata": {},
   "outputs": [],
   "source": [
    "res = df_dict.merge(df_text, on=[\"segment\"])"
   ]
  },
  {
   "cell_type": "code",
   "execution_count": 9,
   "metadata": {},
   "outputs": [
    {
     "data": {
      "text/html": [
       "<div>\n",
       "<style scoped>\n",
       "    .dataframe tbody tr th:only-of-type {\n",
       "        vertical-align: middle;\n",
       "    }\n",
       "\n",
       "    .dataframe tbody tr th {\n",
       "        vertical-align: top;\n",
       "    }\n",
       "\n",
       "    .dataframe thead th {\n",
       "        text-align: right;\n",
       "    }\n",
       "</style>\n",
       "<table border=\"1\" class=\"dataframe\">\n",
       "  <thead>\n",
       "    <tr style=\"text-align: right;\">\n",
       "      <th></th>\n",
       "      <th>segment</th>\n",
       "      <th>dict_value</th>\n",
       "      <th>dict_frequency</th>\n",
       "      <th>text_value</th>\n",
       "      <th>text_frequency</th>\n",
       "    </tr>\n",
       "  </thead>\n",
       "  <tbody>\n",
       "    <tr>\n",
       "      <th>0</th>\n",
       "      <td>χː</td>\n",
       "      <td>783</td>\n",
       "      <td>0.006964</td>\n",
       "      <td>275</td>\n",
       "      <td>0.003483</td>\n",
       "    </tr>\n",
       "    <tr>\n",
       "      <th>1</th>\n",
       "      <td>ã</td>\n",
       "      <td>96</td>\n",
       "      <td>0.000854</td>\n",
       "      <td>175</td>\n",
       "      <td>0.002217</td>\n",
       "    </tr>\n",
       "    <tr>\n",
       "      <th>2</th>\n",
       "      <td>h</td>\n",
       "      <td>2088</td>\n",
       "      <td>0.018569</td>\n",
       "      <td>3090</td>\n",
       "      <td>0.039141</td>\n",
       "    </tr>\n",
       "    <tr>\n",
       "      <th>3</th>\n",
       "      <td>a</td>\n",
       "      <td>21243</td>\n",
       "      <td>0.188922</td>\n",
       "      <td>15599</td>\n",
       "      <td>0.197593</td>\n",
       "    </tr>\n",
       "    <tr>\n",
       "      <th>4</th>\n",
       "      <td>j</td>\n",
       "      <td>2773</td>\n",
       "      <td>0.024661</td>\n",
       "      <td>1338</td>\n",
       "      <td>0.016949</td>\n",
       "    </tr>\n",
       "  </tbody>\n",
       "</table>\n",
       "</div>"
      ],
      "text/plain": [
       "  segment  dict_value  dict_frequency  text_value  text_frequency\n",
       "0      χː         783        0.006964         275        0.003483\n",
       "1      ã          96        0.000854         175        0.002217\n",
       "2       h        2088        0.018569        3090        0.039141\n",
       "3       a       21243        0.188922       15599        0.197593\n",
       "4       j        2773        0.024661        1338        0.016949"
      ]
     },
     "execution_count": 9,
     "metadata": {},
     "output_type": "execute_result"
    }
   ],
   "source": [
    "res.head()"
   ]
  },
  {
   "cell_type": "code",
   "execution_count": 10,
   "metadata": {},
   "outputs": [],
   "source": [
    "res.to_csv('botl_freq.csv')"
   ]
  }
 ],
 "metadata": {
  "kernelspec": {
   "display_name": "Python 3",
   "language": "python",
   "name": "python3"
  },
  "language_info": {
   "codemirror_mode": {
    "name": "ipython",
    "version": 3
   },
   "file_extension": ".py",
   "mimetype": "text/x-python",
   "name": "python",
   "nbconvert_exporter": "python",
   "pygments_lexer": "ipython3",
   "version": "3.8.6"
  }
 },
 "nbformat": 4,
 "nbformat_minor": 4
}
